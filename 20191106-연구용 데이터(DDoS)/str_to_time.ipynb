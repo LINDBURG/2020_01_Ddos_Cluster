{
 "cells": [
  {
   "cell_type": "code",
   "execution_count": 10,
   "metadata": {},
   "outputs": [],
   "source": [
    "import time\n",
    "from datetime import datetime as DT\n",
    "import datetime"
   ]
  },
  {
   "cell_type": "code",
   "execution_count": 20,
   "metadata": {},
   "outputs": [],
   "source": [
    "def str_to_timestamp_conv(in_str):\n",
    "    if \"오후\" in in_str:\n",
    "        dt = DT.strptime(in_str, \"%Y/%m/%d 오후 %H:%M:%S\")\n",
    "        dt = dt + datetime.timedelta(hours=12)\n",
    "        timestamp = time.mktime(dt.timetuple())        \n",
    "        return timestamp\n",
    "    \n",
    "    elif \"오전\" in in_str:\n",
    "        dt = DT.strptime(in_str, \"%Y/%m/%d 오전 %H:%M:%S\")\n",
    "        timestamp = time.mktime(dt.timetuple())   \n",
    "        return timestamp\n",
    "    \n",
    "    else:\n",
    "        print(\"fomat error\")\n",
    "        \n",
    "        dt = DT.strptime(\"1111/01/01 오후 1:01:01\", \"%Y/%m/%d 오후 %H:%M:%S\")\n",
    "        timestamp = time.mktime(dt.timetuple())\n",
    "        return timestamp\n",
    "        "
   ]
  },
  {
   "cell_type": "code",
   "execution_count": 13,
   "metadata": {},
   "outputs": [],
   "source": [
    "def str_to_datetime_conv(in_str):\n",
    "    if \"오후\" in in_str:\n",
    "        dt = DT.strptime(in_str, \"%Y/%m/%d 오후 %H:%M:%S\")\n",
    "        dt = dt + datetime.timedelta(hours=12)\n",
    "        \n",
    "        return dt\n",
    "    \n",
    "    elif \"오전\" in in_str:\n",
    "        dt = DT.strptime(in_str, \"%Y/%m/%d 오전 %H:%M:%S\")\n",
    "        \n",
    "        return dt\n",
    "    \n",
    "    else:\n",
    "        print(\"fomat error\")\n",
    "        \n",
    "        dt = DT.strptime(\"1111/01/01 오후 1:01:01\", \"%Y/%m/%d 오후 %H:%M:%S\")\n",
    "        return dt"
   ]
  },
  {
   "cell_type": "code",
   "execution_count": 14,
   "metadata": {},
   "outputs": [
    {
     "data": {
      "text/plain": [
       "datetime.datetime(2019, 8, 20, 16, 56, 8)"
      ]
     },
     "execution_count": 14,
     "metadata": {},
     "output_type": "execute_result"
    }
   ],
   "source": [
    "str_to_datetime_conv(\"2019/08/20 오후 4:56:08\")"
   ]
  },
  {
   "cell_type": "code",
   "execution_count": 24,
   "metadata": {},
   "outputs": [],
   "source": [
    "a1 = str_to_timestamp_conv(\"2019/08/20 오후 4:56:08\")\n",
    "a2 = str_to_timestamp_conv(\"2019/08/21 오후 5:46:08\")"
   ]
  },
  {
   "cell_type": "code",
   "execution_count": 23,
   "metadata": {},
   "outputs": [],
   "source": [
    "def dt_space_calc(from_time, to_time):                                    #datetime 리턴 input:timestamp 2개\n",
    "    dt_space = DT.fromtimestamp(to_time) - DT.fromtimestamp(from_time)    #timestamp 2개 간의 시간 간격 계산\n",
    "    \n",
    "    return dt_space"
   ]
  },
  {
   "cell_type": "code",
   "execution_count": 29,
   "metadata": {},
   "outputs": [
    {
     "data": {
      "text/plain": [
       "datetime.timedelta(days=1, seconds=3000)"
      ]
     },
     "execution_count": 29,
     "metadata": {},
     "output_type": "execute_result"
    }
   ],
   "source": [
    "dt_space_calc(a1,a2)"
   ]
  },
  {
   "cell_type": "code",
   "execution_count": null,
   "metadata": {},
   "outputs": [],
   "source": []
  }
 ],
 "metadata": {
  "kernelspec": {
   "display_name": "Python 3",
   "language": "python",
   "name": "python3"
  },
  "language_info": {
   "codemirror_mode": {
    "name": "ipython",
    "version": 3
   },
   "file_extension": ".py",
   "mimetype": "text/x-python",
   "name": "python",
   "nbconvert_exporter": "python",
   "pygments_lexer": "ipython3",
   "version": "3.7.6"
  }
 },
 "nbformat": 4,
 "nbformat_minor": 4
}
