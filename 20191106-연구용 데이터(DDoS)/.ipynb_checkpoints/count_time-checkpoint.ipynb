{
 "cells": [
  {
   "cell_type": "code",
   "execution_count": 7,
   "metadata": {},
   "outputs": [],
   "source": [
    "import json\n",
    "import os"
   ]
  },
  {
   "cell_type": "code",
   "execution_count": 2,
   "metadata": {},
   "outputs": [],
   "source": [
    "path = 'dest_arrange2/'"
   ]
  },
  {
   "cell_type": "code",
   "execution_count": 5,
   "metadata": {},
   "outputs": [],
   "source": [
    "def count_ip_addr(file_name):\n",
    "    ip_list = []\n",
    "    ip_before = \"\"\n",
    "    with open(path + file_name) as json_file:\n",
    "        json_data = json.load(json_file)\n",
    "        for item in json_data:\n",
    "            if ip_before != item[\"source_ip\"]:\n",
    "                ip_before = item[\"source_ip\"]\n",
    "                if item[\"source_ip\"] not in ip_list:\n",
    "                    ip_list.append(item[\"source_ip\"])\n",
    "                    \n",
    "        return ip_list"
   ]
  },
  {
   "cell_type": "code",
   "execution_count": 6,
   "metadata": {},
   "outputs": [
    {
     "data": {
      "text/plain": [
       "['-757408877',\n",
       " '-757408882',\n",
       " '-757408878',\n",
       " '-757408884',\n",
       " '-757408874',\n",
       " '-757408883',\n",
       " '-757408879',\n",
       " '-757408881',\n",
       " '-757408875',\n",
       " '-757408880',\n",
       " '-757408876']"
      ]
     },
     "execution_count": 6,
     "metadata": {},
     "output_type": "execute_result"
    }
   ],
   "source": [
    "count_ip_addr(\"data_log(-872586238).json\")"
   ]
  },
  {
   "cell_type": "code",
   "execution_count": 13,
   "metadata": {},
   "outputs": [],
   "source": [
    "def count_time_stamp(file_name):\n",
    "    ip_list = count_ip_addr(file_name)\n",
    "    wf = open('count_time/count_' + file_name, 'w', encoding = \"utf-8\")\n",
    "    before_time = \"\"\n",
    "    time_count = 0\n",
    "    \n",
    "    for s_ip in ip_list:\n",
    "        with open(path + file_name) as json_file:\n",
    "            json_data = json.load(json_file)\n",
    "            for item in json_data:\n",
    "                if s_ip == item[\"source_ip\"]:\n",
    "                    if before_time == \"\":\n",
    "                        before_time = item[\"time_start\"]\n",
    "                        time_count = time_count + 1\n",
    "                    elif before_time == item[\"time_start\"]:\n",
    "                        time_count = time_count + 1\n",
    "                    else:\n",
    "                        wf.write(\"\\t{\\n\")\n",
    "                        wf.write('\\t\\t\"time_start\": ' + '\"' + item[\"time_start\"] + '\",\\n')\n",
    "                        wf.write('\\t\\t\"time_count\": ' + '\"' + str(time_count) + '\",\\n')\n",
    "                        wf.write('\\t\\t\"source_ip\": ' + '\"' + item[\"source_ip\"] + '\",\\n')\n",
    "                        wf.write('\\t\\t\"dest_ip\": ' + '\"' + item[\"dest_ip\"] + '\",\\n')\n",
    "                        wf.write('\\t\\t\"protocol_n\": ' + '\"' + item[\"protocol_n\"] + '\",\\n')\n",
    "                        wf.write('\\t\\t\"STRTITLE\": ' + '\"' + item[\"STRTITLE\"] + '\",\\n')\n",
    "                        wf.write('\\t\\t\"source_mac\": ' + '\"' + item[\"source_mac\"] + '\",\\n')\n",
    "                        wf.write('\\t\\t\"dest_mac\": ' + '\"' + item[\"dest_mac\"] + '\",\\n')\n",
    "                        wf.write('\\t\\t\"pkt_size\": ' + '\"' + item[\"pkt_size\"]+ '\"\\n')\n",
    "                        wf.write(\"\\t},\\n\")\n",
    "                        time_count = 1\n",
    "                        before_time = item[\"time_start\"]\n",
    "                        \n",
    "    wf.seek(0, os.SEEK_END)\n",
    "    wf.seek(wf.tell() - 3, os.SEEK_SET)\n",
    "    wf.truncate()\n",
    "    wf.write(\"\\n]\")\n",
    "\n",
    "    wf.close()"
   ]
  },
  {
   "cell_type": "code",
   "execution_count": 14,
   "metadata": {},
   "outputs": [],
   "source": [
    "count_time_stamp(\"data_log(-872586238).json\")"
   ]
  },
  {
   "cell_type": "code",
   "execution_count": null,
   "metadata": {},
   "outputs": [],
   "source": []
  }
 ],
 "metadata": {
  "kernelspec": {
   "display_name": "Python 3",
   "language": "python",
   "name": "python3"
  },
  "language_info": {
   "codemirror_mode": {
    "name": "ipython",
    "version": 3
   },
   "file_extension": ".py",
   "mimetype": "text/x-python",
   "name": "python",
   "nbconvert_exporter": "python",
   "pygments_lexer": "ipython3",
   "version": "3.7.4"
  }
 },
 "nbformat": 4,
 "nbformat_minor": 4
}
