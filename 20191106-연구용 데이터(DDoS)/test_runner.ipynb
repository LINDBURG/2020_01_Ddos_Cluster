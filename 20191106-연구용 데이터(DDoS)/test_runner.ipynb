{
 "cells": [
  {
   "cell_type": "code",
   "execution_count": 1,
   "metadata": {},
   "outputs": [],
   "source": [
    "import json\n",
    "import os\n",
    "import copy"
   ]
  },
  {
   "cell_type": "code",
   "execution_count": 2,
   "metadata": {},
   "outputs": [],
   "source": [
    "path = 'dest_arrange2/'"
   ]
  },
  {
   "cell_type": "code",
   "execution_count": 3,
   "metadata": {},
   "outputs": [],
   "source": [
    "ip_dic = {}\n",
    "\n",
    "suspicious_ip = set()\n",
    "\n",
    "critical_size = 9000    # over 9000는 바로 의심\n",
    "\n",
    "time_count_lim = 5          # (가변 가능) 타임 카운터(언제까지 잴 것인지)\n",
    "\n",
    "standard_val = 0.2      # (가변 가능) 기준 값(어떤 값 이하면 의심할건지)"
   ]
  },
  {
   "cell_type": "code",
   "execution_count": 5,
   "metadata": {},
   "outputs": [],
   "source": [
    "def add_ip(ip, size):\n",
    "    global ip_dic\n",
    "    if ip in ip_dic:\n",
    "        if size in ip_dic[ip]:\n",
    "            ip_dic[ip][size] = ip_dic[ip][size] + 1\n",
    "        else:\n",
    "            ip_dic[ip][size] = 1\n",
    "    else:\n",
    "        ip_dic[ip] = {}\n",
    "        ip_dic[ip][size] = 1\n",
    "            "
   ]
  },
  {
   "cell_type": "code",
   "execution_count": 8,
   "metadata": {},
   "outputs": [],
   "source": [
    "def ip_dic_calc():\n",
    "    global ip_dic\n",
    "    for ip, size_val in ip_dic.items():\n",
    "        total_packet = 0\n",
    "        packet_size_count = 0\n",
    "        for size_packet_count in size_val.values():\n",
    "            total_packet = total_packet + size_packet_count\n",
    "            packet_size_count = packet_size_count + 1\n",
    "        calc_test = packet_size_count / float(total_packet)\n",
    "        \n",
    "        if standard_val > calc_test:\n",
    "            suspicious_ip.add(int(ip))\n",
    "            \n",
    "    ip_dic.clear()"
   ]
  },
  {
   "cell_type": "code",
   "execution_count": 9,
   "metadata": {},
   "outputs": [],
   "source": [
    "def count_ip_time(file_name):\n",
    "    before_time = \"\"\n",
    "    time_count = 0\n",
    "    with open(path + file_name) as json_file:\n",
    "        json_data = json.load(json_file)\n",
    "        for item in json_data:\n",
    "            if int(item[\"pkt_size\"]) > critical_size:\n",
    "                    suspicious_ip.add(int(item[\"source_ip\"]))\n",
    "            else:\n",
    "                if before_time == \"\":\n",
    "                    before_time = item[\"time_start\"]\n",
    "                    add_ip(item[\"source_ip\"], item[\"pkt_size\"])\n",
    "                    \n",
    "                elif before_time == item[\"time_start\"]:\n",
    "                    before_time = item[\"time_start\"]\n",
    "                    add_ip(item[\"source_ip\"], item[\"pkt_size\"])\n",
    "                    \n",
    "                else:\n",
    "                    time_count = time_count + 1\n",
    "                    if time_count >= time_count_lim:\n",
    "                        ip_dic_calc()\n",
    "                    add_ip(item[\"source_ip\"], item[\"pkt_size\"])"
   ]
  },
  {
   "cell_type": "code",
   "execution_count": null,
   "metadata": {},
   "outputs": [],
   "source": []
  }
 ],
 "metadata": {
  "kernelspec": {
   "display_name": "Python 3",
   "language": "python",
   "name": "python3"
  },
  "language_info": {
   "codemirror_mode": {
    "name": "ipython",
    "version": 3
   },
   "file_extension": ".py",
   "mimetype": "text/x-python",
   "name": "python",
   "nbconvert_exporter": "python",
   "pygments_lexer": "ipython3",
   "version": "3.7.6"
  }
 },
 "nbformat": 4,
 "nbformat_minor": 4
}
