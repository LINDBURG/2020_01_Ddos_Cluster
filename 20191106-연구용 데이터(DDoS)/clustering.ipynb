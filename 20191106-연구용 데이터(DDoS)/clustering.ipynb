{
 "cells": [
  {
   "cell_type": "code",
   "execution_count": 24,
   "metadata": {},
   "outputs": [],
   "source": [
    "import json\n",
    "import pandas as pd\n",
    "import numpy as np\n",
    "from sklearn.cluster import KMeans\n",
    "import matplotlib.pyplot as plt\n",
    "import seaborn as sns\n",
    "%matplotlib inline"
   ]
  },
  {
   "cell_type": "code",
   "execution_count": 98,
   "metadata": {},
   "outputs": [],
   "source": [
    "path = 'dest_arrange2/data_log(-872586238).json'"
   ]
  },
  {
   "cell_type": "code",
   "execution_count": 99,
   "metadata": {},
   "outputs": [],
   "source": [
    "records = pd.read_json(path)"
   ]
  },
  {
   "cell_type": "code",
   "execution_count": 106,
   "metadata": {},
   "outputs": [
    {
     "data": {
      "text/html": [
       "<div>\n",
       "<style scoped>\n",
       "    .dataframe tbody tr th:only-of-type {\n",
       "        vertical-align: middle;\n",
       "    }\n",
       "\n",
       "    .dataframe tbody tr th {\n",
       "        vertical-align: top;\n",
       "    }\n",
       "\n",
       "    .dataframe thead th {\n",
       "        text-align: right;\n",
       "    }\n",
       "</style>\n",
       "<table border=\"1\" class=\"dataframe\">\n",
       "  <thead>\n",
       "    <tr style=\"text-align: right;\">\n",
       "      <th></th>\n",
       "      <th>time_start</th>\n",
       "      <th>source_ip</th>\n",
       "      <th>dest_ip</th>\n",
       "      <th>protocol_n</th>\n",
       "      <th>STRTITLE</th>\n",
       "      <th>source_mac</th>\n",
       "      <th>dest_mac</th>\n",
       "      <th>pkt_size</th>\n",
       "    </tr>\n",
       "  </thead>\n",
       "  <tbody>\n",
       "    <tr>\n",
       "      <th>0</th>\n",
       "      <td>2019/08/20 오후 1:59:54</td>\n",
       "      <td>-757408877</td>\n",
       "      <td>-872586238</td>\n",
       "      <td>6</td>\n",
       "      <td>tcp null scan</td>\n",
       "      <td>00.15.C6.AE.50.C0</td>\n",
       "      <td>00.1B.17.00.01.10</td>\n",
       "      <td>148</td>\n",
       "    </tr>\n",
       "    <tr>\n",
       "      <th>1</th>\n",
       "      <td>2019/08/20 오후 1:59:54</td>\n",
       "      <td>-757408882</td>\n",
       "      <td>-872586238</td>\n",
       "      <td>6</td>\n",
       "      <td>tcp null scan</td>\n",
       "      <td>00.15.C6.AE.50.C0</td>\n",
       "      <td>00.1B.17.00.01.10</td>\n",
       "      <td>148</td>\n",
       "    </tr>\n",
       "    <tr>\n",
       "      <th>2</th>\n",
       "      <td>2019/08/20 오후 1:59:54</td>\n",
       "      <td>-757408878</td>\n",
       "      <td>-872586238</td>\n",
       "      <td>6</td>\n",
       "      <td>full xmas scan</td>\n",
       "      <td>00.15.C6.AE.50.C0</td>\n",
       "      <td>00.1B.17.00.01.10</td>\n",
       "      <td>148</td>\n",
       "    </tr>\n",
       "    <tr>\n",
       "      <th>3</th>\n",
       "      <td>2019/08/20 오후 1:59:54</td>\n",
       "      <td>-757408884</td>\n",
       "      <td>-872586238</td>\n",
       "      <td>6</td>\n",
       "      <td>tcp null scan</td>\n",
       "      <td>00.15.C6.AE.50.C0</td>\n",
       "      <td>00.1B.17.00.01.10</td>\n",
       "      <td>148</td>\n",
       "    </tr>\n",
       "    <tr>\n",
       "      <th>4</th>\n",
       "      <td>2019/08/20 오후 1:59:54</td>\n",
       "      <td>-757408874</td>\n",
       "      <td>-872586238</td>\n",
       "      <td>6</td>\n",
       "      <td>full xmas scan</td>\n",
       "      <td>00.15.C6.AE.50.C0</td>\n",
       "      <td>00.1B.17.00.01.10</td>\n",
       "      <td>148</td>\n",
       "    </tr>\n",
       "    <tr>\n",
       "      <th>5</th>\n",
       "      <td>2019/08/20 오후 1:59:54</td>\n",
       "      <td>-757408883</td>\n",
       "      <td>-872586238</td>\n",
       "      <td>6</td>\n",
       "      <td>tcp null scan</td>\n",
       "      <td>00.15.C6.AE.50.C0</td>\n",
       "      <td>00.1B.17.00.01.10</td>\n",
       "      <td>148</td>\n",
       "    </tr>\n",
       "    <tr>\n",
       "      <th>6</th>\n",
       "      <td>2019/08/20 오후 1:59:54</td>\n",
       "      <td>-757408878</td>\n",
       "      <td>-872586238</td>\n",
       "      <td>6</td>\n",
       "      <td>full xmas scan</td>\n",
       "      <td>00.15.C6.AE.50.C0</td>\n",
       "      <td>00.1B.17.00.01.10</td>\n",
       "      <td>148</td>\n",
       "    </tr>\n",
       "    <tr>\n",
       "      <th>7</th>\n",
       "      <td>2019/08/20 오후 1:59:54</td>\n",
       "      <td>-757408874</td>\n",
       "      <td>-872586238</td>\n",
       "      <td>6</td>\n",
       "      <td>xmas scan</td>\n",
       "      <td>00.15.C6.AE.50.C0</td>\n",
       "      <td>00.1B.17.00.01.10</td>\n",
       "      <td>148</td>\n",
       "    </tr>\n",
       "    <tr>\n",
       "      <th>8</th>\n",
       "      <td>2019/08/20 오후 1:59:54</td>\n",
       "      <td>-757408879</td>\n",
       "      <td>-872586238</td>\n",
       "      <td>6</td>\n",
       "      <td>full xmas scan</td>\n",
       "      <td>00.15.C6.AE.50.C0</td>\n",
       "      <td>00.1B.17.00.01.10</td>\n",
       "      <td>148</td>\n",
       "    </tr>\n",
       "    <tr>\n",
       "      <th>9</th>\n",
       "      <td>2019/08/20 오후 1:59:54</td>\n",
       "      <td>-757408877</td>\n",
       "      <td>-872586238</td>\n",
       "      <td>6</td>\n",
       "      <td>xmas scan</td>\n",
       "      <td>00.15.C6.AE.50.C0</td>\n",
       "      <td>00.1B.17.00.01.10</td>\n",
       "      <td>148</td>\n",
       "    </tr>\n",
       "  </tbody>\n",
       "</table>\n",
       "</div>"
      ],
      "text/plain": [
       "              time_start  source_ip    dest_ip  protocol_n        STRTITLE  \\\n",
       "0  2019/08/20 오후 1:59:54 -757408877 -872586238           6   tcp null scan   \n",
       "1  2019/08/20 오후 1:59:54 -757408882 -872586238           6   tcp null scan   \n",
       "2  2019/08/20 오후 1:59:54 -757408878 -872586238           6  full xmas scan   \n",
       "3  2019/08/20 오후 1:59:54 -757408884 -872586238           6   tcp null scan   \n",
       "4  2019/08/20 오후 1:59:54 -757408874 -872586238           6  full xmas scan   \n",
       "5  2019/08/20 오후 1:59:54 -757408883 -872586238           6   tcp null scan   \n",
       "6  2019/08/20 오후 1:59:54 -757408878 -872586238           6  full xmas scan   \n",
       "7  2019/08/20 오후 1:59:54 -757408874 -872586238           6       xmas scan   \n",
       "8  2019/08/20 오후 1:59:54 -757408879 -872586238           6  full xmas scan   \n",
       "9  2019/08/20 오후 1:59:54 -757408877 -872586238           6       xmas scan   \n",
       "\n",
       "          source_mac           dest_mac  pkt_size  \n",
       "0  00.15.C6.AE.50.C0  00.1B.17.00.01.10       148  \n",
       "1  00.15.C6.AE.50.C0  00.1B.17.00.01.10       148  \n",
       "2  00.15.C6.AE.50.C0  00.1B.17.00.01.10       148  \n",
       "3  00.15.C6.AE.50.C0  00.1B.17.00.01.10       148  \n",
       "4  00.15.C6.AE.50.C0  00.1B.17.00.01.10       148  \n",
       "5  00.15.C6.AE.50.C0  00.1B.17.00.01.10       148  \n",
       "6  00.15.C6.AE.50.C0  00.1B.17.00.01.10       148  \n",
       "7  00.15.C6.AE.50.C0  00.1B.17.00.01.10       148  \n",
       "8  00.15.C6.AE.50.C0  00.1B.17.00.01.10       148  \n",
       "9  00.15.C6.AE.50.C0  00.1B.17.00.01.10       148  "
      ]
     },
     "execution_count": 106,
     "metadata": {},
     "output_type": "execute_result"
    }
   ],
   "source": [
    "records.head(10)"
   ]
  },
  {
   "cell_type": "code",
   "execution_count": 110,
   "metadata": {},
   "outputs": [
    {
     "data": {
      "text/html": [
       "<div>\n",
       "<style scoped>\n",
       "    .dataframe tbody tr th:only-of-type {\n",
       "        vertical-align: middle;\n",
       "    }\n",
       "\n",
       "    .dataframe tbody tr th {\n",
       "        vertical-align: top;\n",
       "    }\n",
       "\n",
       "    .dataframe thead th {\n",
       "        text-align: right;\n",
       "    }\n",
       "</style>\n",
       "<table border=\"1\" class=\"dataframe\">\n",
       "  <thead>\n",
       "    <tr style=\"text-align: right;\">\n",
       "      <th></th>\n",
       "      <th>time_start</th>\n",
       "      <th>source_ip</th>\n",
       "      <th>dest_ip</th>\n",
       "      <th>protocol_n</th>\n",
       "      <th>STRTITLE</th>\n",
       "      <th>source_mac</th>\n",
       "      <th>dest_mac</th>\n",
       "      <th>pkt_size</th>\n",
       "    </tr>\n",
       "  </thead>\n",
       "  <tbody>\n",
       "    <tr>\n",
       "      <th>126704</th>\n",
       "      <td>2019/08/20 오후 2:48:45</td>\n",
       "      <td>-757408884</td>\n",
       "      <td>-872586238</td>\n",
       "      <td>6</td>\n",
       "      <td>tcp syn flooding</td>\n",
       "      <td>00.15.C6.AE.50.C0</td>\n",
       "      <td>00.1B.17.00.01.10</td>\n",
       "      <td>28928</td>\n",
       "    </tr>\n",
       "    <tr>\n",
       "      <th>168287</th>\n",
       "      <td>2019/08/20 오후 2:49:13</td>\n",
       "      <td>-757408877</td>\n",
       "      <td>-872586238</td>\n",
       "      <td>6</td>\n",
       "      <td>tcp syn flooding</td>\n",
       "      <td>00.15.C6.AE.50.C0</td>\n",
       "      <td>00.1B.17.00.01.10</td>\n",
       "      <td>28840</td>\n",
       "    </tr>\n",
       "  </tbody>\n",
       "</table>\n",
       "</div>"
      ],
      "text/plain": [
       "                   time_start  source_ip    dest_ip  protocol_n  \\\n",
       "126704  2019/08/20 오후 2:48:45 -757408884 -872586238           6   \n",
       "168287  2019/08/20 오후 2:49:13 -757408877 -872586238           6   \n",
       "\n",
       "                STRTITLE         source_mac           dest_mac  pkt_size  \n",
       "126704  tcp syn flooding  00.15.C6.AE.50.C0  00.1B.17.00.01.10     28928  \n",
       "168287  tcp syn flooding  00.15.C6.AE.50.C0  00.1B.17.00.01.10     28840  "
      ]
     },
     "execution_count": 110,
     "metadata": {},
     "output_type": "execute_result"
    }
   ],
   "source": [
    "records[records['pkt_size'] >= 1000]"
   ]
  },
  {
   "cell_type": "code",
   "execution_count": 102,
   "metadata": {},
   "outputs": [
    {
     "data": {
      "text/plain": [
       "<seaborn.axisgrid.FacetGrid at 0x15f74a70>"
      ]
     },
     "execution_count": 102,
     "metadata": {},
     "output_type": "execute_result"
    },
    {
     "data": {
      "image/png": "[encoded data removed]",
      "text/plain": [
       "<Figure size 360x360 with 1 Axes>"
      ]
     },
     "metadata": {
      "needs_background": "light"
     },
     "output_type": "display_data"
    }
   ],
   "source": [
    "sns.lmplot('source_ip', 'pkt_size', data = records, fit_reg = False, scatter_kws={\"s\":100})"
   ]
  },
  {
   "cell_type": "code",
   "execution_count": 111,
   "metadata": {},
   "outputs": [
    {
     "data": {
      "text/plain": [
       "<seaborn.axisgrid.FacetGrid at 0x17df0310>"
      ]
     },
     "execution_count": 111,
     "metadata": {},
     "output_type": "execute_result"
    },
    {
     "data": {
      "image/png": "[encoded data removed]",
      "text/plain": [
       "<Figure size 360x360 with 1 Axes>"
      ]
     },
     "metadata": {
      "needs_background": "light"
     },
     "output_type": "display_data"
    }
   ],
   "source": [
    "sns.lmplot('source_ip', 'pkt_size', data = records[records['pkt_size'] <= 1000], fit_reg = False, scatter_kws={\"s\":100})"
   ]
  },
  {
   "cell_type": "code",
   "execution_count": 83,
   "metadata": {},
   "outputs": [],
   "source": [
    "points = records.values"
   ]
  },
  {
   "cell_type": "code",
   "execution_count": 94,
   "metadata": {},
   "outputs": [
    {
     "data": {
      "text/plain": [
       "array([['2019/08/13 오후 3:04:32', -757408879, -874088599, 6, 'xmas scan',\n",
       "        'C0.67.AF.4A.A8.80', '50.3D.E5.FF.2C.80', 148],\n",
       "       ['2019/08/13 오후 3:04:32', -757408879, -874088599, 6, 'xmas scan',\n",
       "        'C0.67.AF.4A.A8.80', '50.3D.E5.FF.2C.80', 148],\n",
       "       ['2019/08/13 오후 3:04:32', -757408879, -874088599, 6,\n",
       "        'tcp null scan', 'C0.67.AF.4A.A8.80', '50.3D.E5.FF.2C.80', 148],\n",
       "       ['2019/08/13 오후 3:04:32', -757408875, -874088599, 6, 'xmas scan',\n",
       "        'C0.67.AF.4A.A8.80', '50.3D.E5.FF.2C.80', 148],\n",
       "       ['2019/08/13 오후 3:04:32', -757408879, -874088599, 6,\n",
       "        'tcp null scan', 'C0.67.AF.4A.A8.80', '50.3D.E5.FF.2C.80', 148]],\n",
       "      dtype=object)"
      ]
     },
     "execution_count": 94,
     "metadata": {},
     "output_type": "execute_result"
    }
   ],
   "source": [
    "points"
   ]
  },
  {
   "cell_type": "code",
   "execution_count": 95,
   "metadata": {},
   "outputs": [
    {
     "data": {
      "text/plain": [
       "0    1\n",
       "1    1\n",
       "2    0\n",
       "3    1\n",
       "4    0\n",
       "dtype: int8"
      ]
     },
     "execution_count": 95,
     "metadata": {},
     "output_type": "execute_result"
    }
   ],
   "source": [
    "records['STRTITLE'].astype('category').cat.codes"
   ]
  },
  {
   "cell_type": "code",
   "execution_count": 97,
   "metadata": {},
   "outputs": [
    {
     "data": {
      "text/html": [
       "<div>\n",
       "<style scoped>\n",
       "    .dataframe tbody tr th:only-of-type {\n",
       "        vertical-align: middle;\n",
       "    }\n",
       "\n",
       "    .dataframe tbody tr th {\n",
       "        vertical-align: top;\n",
       "    }\n",
       "\n",
       "    .dataframe thead th {\n",
       "        text-align: right;\n",
       "    }\n",
       "</style>\n",
       "<table border=\"1\" class=\"dataframe\">\n",
       "  <thead>\n",
       "    <tr style=\"text-align: right;\">\n",
       "      <th></th>\n",
       "      <th>tcp null scan</th>\n",
       "      <th>xmas scan</th>\n",
       "    </tr>\n",
       "  </thead>\n",
       "  <tbody>\n",
       "    <tr>\n",
       "      <th>0</th>\n",
       "      <td>0</td>\n",
       "      <td>1</td>\n",
       "    </tr>\n",
       "    <tr>\n",
       "      <th>1</th>\n",
       "      <td>0</td>\n",
       "      <td>1</td>\n",
       "    </tr>\n",
       "    <tr>\n",
       "      <th>2</th>\n",
       "      <td>1</td>\n",
       "      <td>0</td>\n",
       "    </tr>\n",
       "    <tr>\n",
       "      <th>3</th>\n",
       "      <td>0</td>\n",
       "      <td>1</td>\n",
       "    </tr>\n",
       "    <tr>\n",
       "      <th>4</th>\n",
       "      <td>1</td>\n",
       "      <td>0</td>\n",
       "    </tr>\n",
       "  </tbody>\n",
       "</table>\n",
       "</div>"
      ],
      "text/plain": [
       "   tcp null scan  xmas scan\n",
       "0              0          1\n",
       "1              0          1\n",
       "2              1          0\n",
       "3              0          1\n",
       "4              1          0"
      ]
     },
     "execution_count": 97,
     "metadata": {},
     "output_type": "execute_result"
    }
   ],
   "source": [
    "pd.get_dummies(records['STRTITLE'])"
   ]
  },
  {
   "cell_type": "code",
   "execution_count": null,
   "metadata": {},
   "outputs": [],
   "source": []
  }
 ],
 "metadata": {
  "kernelspec": {
   "display_name": "Python 3",
   "language": "python",
   "name": "python3"
  },
  "language_info": {
   "codemirror_mode": {
    "name": "ipython",
    "version": 3
   },
   "file_extension": ".py",
   "mimetype": "text/x-python",
   "name": "python",
   "nbconvert_exporter": "python",
   "pygments_lexer": "ipython3",
   "version": "3.7.4"
  }
 },
 "nbformat": 4,
 "nbformat_minor": 4
}
