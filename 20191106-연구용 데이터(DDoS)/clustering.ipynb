{
 "cells": [
  {
   "cell_type": "code",
   "execution_count": 24,
   "metadata": {},
   "outputs": [],
   "source": [
    "import json\n",
    "import pandas as pd\n",
    "import numpy as np\n",
    "from sklearn.cluster import KMeans\n",
    "import matplotlib.pyplot as plt\n",
    "import seaborn as sns\n",
    "%matplotlib inline"
   ]
  },
  {
   "cell_type": "code",
   "execution_count": 75,
   "metadata": {},
   "outputs": [],
   "source": [
    "path = 'dest_arrange2/data_log(-872586238)2.json'"
   ]
  },
  {
   "cell_type": "code",
   "execution_count": 79,
   "metadata": {},
   "outputs": [],
   "source": [
    "records = pd.read_json(path)"
   ]
  },
  {
   "cell_type": "code",
   "execution_count": 80,
   "metadata": {},
   "outputs": [
    {
     "data": {
      "text/html": [
       "<div>\n",
       "<style scoped>\n",
       "    .dataframe tbody tr th:only-of-type {\n",
       "        vertical-align: middle;\n",
       "    }\n",
       "\n",
       "    .dataframe tbody tr th {\n",
       "        vertical-align: top;\n",
       "    }\n",
       "\n",
       "    .dataframe thead th {\n",
       "        text-align: right;\n",
       "    }\n",
       "</style>\n",
       "<table border=\"1\" class=\"dataframe\">\n",
       "  <thead>\n",
       "    <tr style=\"text-align: right;\">\n",
       "      <th></th>\n",
       "      <th>time_start</th>\n",
       "      <th>source_ip</th>\n",
       "      <th>dest_ip</th>\n",
       "      <th>protocol_n</th>\n",
       "      <th>STRTITLE</th>\n",
       "      <th>source_mac</th>\n",
       "      <th>dest_mac</th>\n",
       "      <th>pkt_size</th>\n",
       "    </tr>\n",
       "  </thead>\n",
       "  <tbody>\n",
       "    <tr>\n",
       "      <th>0</th>\n",
       "      <td>2019/08/13 오후 3:04:32</td>\n",
       "      <td>-757408879</td>\n",
       "      <td>-874088599</td>\n",
       "      <td>6</td>\n",
       "      <td>xmas scan</td>\n",
       "      <td>C0.67.AF.4A.A8.80</td>\n",
       "      <td>50.3D.E5.FF.2C.80</td>\n",
       "      <td>148</td>\n",
       "    </tr>\n",
       "    <tr>\n",
       "      <th>1</th>\n",
       "      <td>2019/08/13 오후 3:04:32</td>\n",
       "      <td>-757408879</td>\n",
       "      <td>-874088599</td>\n",
       "      <td>6</td>\n",
       "      <td>xmas scan</td>\n",
       "      <td>C0.67.AF.4A.A8.80</td>\n",
       "      <td>50.3D.E5.FF.2C.80</td>\n",
       "      <td>148</td>\n",
       "    </tr>\n",
       "    <tr>\n",
       "      <th>2</th>\n",
       "      <td>2019/08/13 오후 3:04:32</td>\n",
       "      <td>-757408879</td>\n",
       "      <td>-874088599</td>\n",
       "      <td>6</td>\n",
       "      <td>tcp null scan</td>\n",
       "      <td>C0.67.AF.4A.A8.80</td>\n",
       "      <td>50.3D.E5.FF.2C.80</td>\n",
       "      <td>148</td>\n",
       "    </tr>\n",
       "    <tr>\n",
       "      <th>3</th>\n",
       "      <td>2019/08/13 오후 3:04:32</td>\n",
       "      <td>-757408875</td>\n",
       "      <td>-874088599</td>\n",
       "      <td>6</td>\n",
       "      <td>xmas scan</td>\n",
       "      <td>C0.67.AF.4A.A8.80</td>\n",
       "      <td>50.3D.E5.FF.2C.80</td>\n",
       "      <td>148</td>\n",
       "    </tr>\n",
       "    <tr>\n",
       "      <th>4</th>\n",
       "      <td>2019/08/13 오후 3:04:32</td>\n",
       "      <td>-757408879</td>\n",
       "      <td>-874088599</td>\n",
       "      <td>6</td>\n",
       "      <td>tcp null scan</td>\n",
       "      <td>C0.67.AF.4A.A8.80</td>\n",
       "      <td>50.3D.E5.FF.2C.80</td>\n",
       "      <td>148</td>\n",
       "    </tr>\n",
       "  </tbody>\n",
       "</table>\n",
       "</div>"
      ],
      "text/plain": [
       "              time_start  source_ip    dest_ip  protocol_n       STRTITLE  \\\n",
       "0  2019/08/13 오후 3:04:32 -757408879 -874088599           6      xmas scan   \n",
       "1  2019/08/13 오후 3:04:32 -757408879 -874088599           6      xmas scan   \n",
       "2  2019/08/13 오후 3:04:32 -757408879 -874088599           6  tcp null scan   \n",
       "3  2019/08/13 오후 3:04:32 -757408875 -874088599           6      xmas scan   \n",
       "4  2019/08/13 오후 3:04:32 -757408879 -874088599           6  tcp null scan   \n",
       "\n",
       "          source_mac           dest_mac  pkt_size  \n",
       "0  C0.67.AF.4A.A8.80  50.3D.E5.FF.2C.80       148  \n",
       "1  C0.67.AF.4A.A8.80  50.3D.E5.FF.2C.80       148  \n",
       "2  C0.67.AF.4A.A8.80  50.3D.E5.FF.2C.80       148  \n",
       "3  C0.67.AF.4A.A8.80  50.3D.E5.FF.2C.80       148  \n",
       "4  C0.67.AF.4A.A8.80  50.3D.E5.FF.2C.80       148  "
      ]
     },
     "execution_count": 80,
     "metadata": {},
     "output_type": "execute_result"
    }
   ],
   "source": [
    "records.head(10)"
   ]
  },
  {
   "cell_type": "code",
   "execution_count": 82,
   "metadata": {},
   "outputs": [
    {
     "data": {
      "text/plain": [
       "<seaborn.axisgrid.FacetGrid at 0x3e70cc90>"
      ]
     },
     "execution_count": 82,
     "metadata": {},
     "output_type": "execute_result"
    },
    {
     "data": {
      "image/png": "[encoded data removed]",
      "text/plain": [
       "<Figure size 360x360 with 1 Axes>"
      ]
     },
     "metadata": {
      "needs_background": "light"
     },
     "output_type": "display_data"
    }
   ],
   "source": [
    "sns.lmplot('source_ip', 'pkt_size', data = records, fit_reg = False, scatter_kws={\"s\":200})"
   ]
  },
  {
   "cell_type": "code",
   "execution_count": 83,
   "metadata": {},
   "outputs": [],
   "source": [
    "points = records.values"
   ]
  },
  {
   "cell_type": "code",
   "execution_count": 86,
   "metadata": {},
   "outputs": [
    {
     "data": {
      "text/plain": [
       "[['i', 'm', 'e'],\n",
       " ['o', 'u', 'r'],\n",
       " ['e', 's', 't'],\n",
       " ['r', 'o', 't'],\n",
       " ['T', 'R', 'T'],\n",
       " ['o', 'u', 'r'],\n",
       " ['e', 's', 't'],\n",
       " ['k', 't', '_']]"
      ]
     },
     "execution_count": 86,
     "metadata": {},
     "output_type": "execute_result"
    }
   ],
   "source": [
    "[[r[1],r[2], r[3]] for r in records]"
   ]
  },
  {
   "cell_type": "code",
   "execution_count": 93,
   "metadata": {},
   "outputs": [
    {
     "name": "stdout",
     "output_type": "stream",
     "text": [
      "              time_start  source_ip    dest_ip  protocol_n       STRTITLE  \\\n",
      "0  2019/08/13 오후 3:04:32 -757408879 -874088599           6      xmas scan   \n",
      "1  2019/08/13 오후 3:04:32 -757408879 -874088599           6      xmas scan   \n",
      "2  2019/08/13 오후 3:04:32 -757408879 -874088599           6  tcp null scan   \n",
      "3  2019/08/13 오후 3:04:32 -757408875 -874088599           6      xmas scan   \n",
      "4  2019/08/13 오후 3:04:32 -757408879 -874088599           6  tcp null scan   \n",
      "\n",
      "          source_mac           dest_mac  pkt_size  \n",
      "0  C0.67.AF.4A.A8.80  50.3D.E5.FF.2C.80       148  \n",
      "1  C0.67.AF.4A.A8.80  50.3D.E5.FF.2C.80       148  \n",
      "2  C0.67.AF.4A.A8.80  50.3D.E5.FF.2C.80       148  \n",
      "3  C0.67.AF.4A.A8.80  50.3D.E5.FF.2C.80       148  \n",
      "4  C0.67.AF.4A.A8.80  50.3D.E5.FF.2C.80       148  \n"
     ]
    }
   ],
   "source": [
    "print(records)"
   ]
  },
  {
   "cell_type": "code",
   "execution_count": null,
   "metadata": {},
   "outputs": [],
   "source": []
  }
 ],
 "metadata": {
  "kernelspec": {
   "display_name": "Python 3",
   "language": "python",
   "name": "python3"
  },
  "language_info": {
   "codemirror_mode": {
    "name": "ipython",
    "version": 3
   },
   "file_extension": ".py",
   "mimetype": "text/x-python",
   "name": "python",
   "nbconvert_exporter": "python",
   "pygments_lexer": "ipython3",
   "version": "3.7.4"
  }
 },
 "nbformat": 4,
 "nbformat_minor": 4
}
